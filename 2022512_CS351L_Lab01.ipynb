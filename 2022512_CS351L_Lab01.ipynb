{
  "cells": [
    {
      "cell_type": "markdown",
      "metadata": {
        "id": "view-in-github",
        "colab_type": "text"
      },
      "source": [
        "<a href=\"https://colab.research.google.com/github/saadali112/CS-351L---AI-Lab-GitHub-Repository_2022512/blob/main/2022512_CS351L_Lab01.ipynb\" target=\"_parent\"><img src=\"https://colab.research.google.com/assets/colab-badge.svg\" alt=\"Open In Colab\"/></a>"
      ]
    },
    {
      "cell_type": "markdown",
      "source": [
        "Implemented the Number Guessing Game where the AI uses\n",
        "**Breadth-First Search (BFS)** to guess the number.\n"
      ],
      "metadata": {
        "id": "tRNAHMeGV_J8"
      }
    },
    {
      "cell_type": "markdown",
      "source": [
        "In the random number guessing game i shared, the term BFS (Breadth-First Search) isn't used in its traditional sense (as it would be in graph or tree traversal), but we can explore how some elements of the BFS-like behavior apply in this case.\n",
        "\n",
        "\n",
        "*  In traditional BFS, you're exploring nodes in a graph or tree level by level.\n",
        "*  In the number guessing game, the search space is the list of possible numbers (from 1 to 100) that the AI has to explore.\n",
        "\n",
        "**Key Aspects of the Code**:\n",
        "\n",
        "**Queue Initialization**: The queue contains all possible guesses (from 1 to 100).\n",
        "\n",
        "**Randomized Guessing**: The AI picks a random number from the remaining possible numbers.\n",
        "\n",
        "**Feedback Loop**: After each guess, the user provides feedback on whether the guess is too high ('h'), too low ('l'), or correct ('c').\n",
        "\n",
        "**Search Refinement**: Based on the feedback, the program narrows down the range by filtering the queue.\n",
        "\n",
        "**Attempt Limitation**: The AI has a maximum of 10 attempts to guess the numbe\n",
        "\n"
      ],
      "metadata": {
        "id": "R9H5K8rqef1u"
      }
    },
    {
      "cell_type": "code",
      "source": [
        "import random\n",
        "from collections import deque\n",
        "\n",
        "def ai_number_guessing_game_bfs_random_limited():\n",
        "    # player to think of a number\n",
        "    print(\"Think of a number between 1 and 100, and I (the AI) will try to guess it using a randomized BFS approach.\")\n",
        "\n",
        "    # Initialize the range\n",
        "    low = 1\n",
        "    high = 100\n",
        "    # Defining the maximum number of attempts the AI can make\n",
        "    max_attempts = 10\n",
        "    attempts = 0\n",
        "\n",
        "\n",
        "    # Initializing the queue with all possible guesses\n",
        "    queue = deque(range(low, high + 1))\n",
        "\n",
        "    # Perform randomized BFS to guess the number\n",
        "    while queue and attempts < max_attempts:\n",
        "        # Guess a random number from the remaining possible guesses in the queue\n",
        "        guess = random.choice(queue)\n",
        "        attempts += 1\n",
        "\n",
        "        print(f\"AI's guess ({attempts}/{max_attempts}) is: {guess}\")\n",
        "        # Get feedback from the player\n",
        "        feedback = input(\"Enter 'h' if too high, 'l' if too low, or 'c' if correct: \").strip().lower()\n",
        "\n",
        "        if feedback == 'c':\n",
        "            # Player confirms the guess is correct\n",
        "            print(f\"I (AI) guessed the number in {attempts} attempts using randomized BFS!\")\n",
        "            return\n",
        "        elif feedback == 'h':\n",
        "            # If the guess is to high, remove all numbers greater than the current guess\n",
        "            queue = deque(num for num in queue if num < guess)\n",
        "        elif feedback == 'l':\n",
        "            # If the guess is to low, remove all numbers less than the current guess\n",
        "            queue = deque(num for num in queue if num > guess)\n",
        "        else:\n",
        "            print(\"Invalid input. Please enter 'h', 'l', or 'c'.\")\n",
        "\n",
        "    # Handle situation if the AI cannot guess within 10 attempts\n",
        "    print(f\"I (AI) couldn't guess the number within {max_attempts} attempts. Better luck next time!\")\n",
        "\n",
        "# Run the game\n",
        "ai_number_guessing_game_bfs_random_limited() #calling the function\n"
      ],
      "metadata": {
        "colab": {
          "base_uri": "https://localhost:8080/"
        },
        "id": "JsfiLY1FJ1H1",
        "outputId": "12514742-0bb6-40e3-bd64-0e5e4aad3f60"
      },
      "execution_count": 3,
      "outputs": [
        {
          "output_type": "stream",
          "name": "stdout",
          "text": [
            "Think of a number between 1 and 100, and I (the AI) will try to guess it using a randomized BFS approach.\n",
            "AI's guess (1/10) is: 57\n",
            "Enter 'h' if too high, 'l' if too low, or 'c' if correct: h\n",
            "AI's guess (2/10) is: 21\n",
            "Enter 'h' if too high, 'l' if too low, or 'c' if correct: l\n",
            "AI's guess (3/10) is: 22\n",
            "Enter 'h' if too high, 'l' if too low, or 'c' if correct: l\n",
            "AI's guess (4/10) is: 49\n",
            "Enter 'h' if too high, 'l' if too low, or 'c' if correct: h\n",
            "AI's guess (5/10) is: 40\n",
            "Enter 'h' if too high, 'l' if too low, or 'c' if correct: h\n",
            "AI's guess (6/10) is: 36\n",
            "Enter 'h' if too high, 'l' if too low, or 'c' if correct: h\n",
            "AI's guess (7/10) is: 33\n",
            "Enter 'h' if too high, 'l' if too low, or 'c' if correct: h\n",
            "AI's guess (8/10) is: 25\n",
            "Enter 'h' if too high, 'l' if too low, or 'c' if correct: l\n",
            "AI's guess (9/10) is: 29\n",
            "Enter 'h' if too high, 'l' if too low, or 'c' if correct: l\n",
            "AI's guess (10/10) is: 30\n",
            "Enter 'h' if too high, 'l' if too low, or 'c' if correct: c\n",
            "I (AI) guessed the number in 10 attempts using randomized BFS!\n"
          ]
        }
      ]
    },
    {
      "cell_type": "markdown",
      "source": [],
      "metadata": {
        "id": "kKSJqee8eNHh"
      }
    },
    {
      "cell_type": "markdown",
      "source": [],
      "metadata": {
        "id": "2ZZ-5nBYeMct"
      }
    },
    {
      "cell_type": "markdown",
      "source": [
        "Implemented the Number Guessing Game where the AI uses **Depth-First Search (BFS)** to guess the number."
      ],
      "metadata": {
        "id": "wm_DeN2xXhpu"
      }
    },
    {
      "cell_type": "markdown",
      "source": [
        " **Depth-First Search (DFS)** is a fundamental algorithm used for traversing or searching through tree and graph structures. The key idea is to explore as deeply as possible along one branch before backtracking.\n",
        "\n",
        " To understand how DFS (Depth-First Search) concepts can be applied to the random number guessing game, let’s explore the key aspects of DFS and how they can be related to the game.\n",
        "\n",
        "**Key Concepts of DFS**:\n",
        "\n",
        "**Depth Exploration**: DFS explores as deeply as possible along one branch before backtracking.\n",
        "\n",
        "**Stack-Based**: DFS typically uses a stack to keep track of nodes to explore.\n",
        "\n",
        "**Backtracking and Refinement**: The process of removing numbers based on feedback mimics the backtracking and path refinement in DFS.\n",
        "\n",
        "**Key Aspects of the Code**:\n",
        "\n",
        "**Initialization of Range and Stack**:\n",
        "\n",
        "Purpose: Initializes the range of possible numbers (1 to 100) and sets up the stack (or deque) with all possible guesses.\n",
        "\n",
        "Relation to DFS: The stack is used to manage the set of potential guesses, similar to how DFS uses a stack to manage nodes to explore.\n",
        "\n",
        "**Randomized Guessing**:\n",
        "\n",
        "Purpose: Selects a random number from the stack for each guess.\n",
        "Relation to Search Strategies: While not traditional DFS or BFS, this introduces an element of randomness in the exploration of possibilities.\n",
        "\n",
        "Feedback Handling and Stack Refinement:\n",
        "\n",
        "Purpose: Adjusts the stack based on feedback from the player:\n",
        "'h' (too high): Removes numbers greater than the guess.\n",
        "'l' (too low): Removes numbers less than the guess.\n",
        "\n",
        "Relation to DFS/BFS: This refinement is akin to backtracking in DFS, where you discard paths that don’t lead to the solution.\n",
        "\n",
        "\n",
        "\n",
        "\n",
        "\n",
        "\n",
        "\n"
      ],
      "metadata": {
        "id": "A81PU-mDgIbM"
      }
    },
    {
      "cell_type": "code",
      "source": [
        "import random\n",
        "from collections import deque\n",
        "\n",
        "def ai_number_guessing_game_dfs_random():\n",
        "    # Prompt the player to think of a number\n",
        "    print(\"Think of a number between 1 and 100, and I (the AI) will try to guess it using a randomized DFS-like approach.\")\n",
        "\n",
        "    # Initialize the search range\n",
        "    low = 1\n",
        "    high = 100\n",
        "    attempts = 0\n",
        "    max_attempts = 10\n",
        "\n",
        "    # Initialize the stack with all possible guesses\n",
        "    stack = deque(range(low, high + 1))\n",
        "\n",
        "    # Perform DFS to guess the number\n",
        "    while stack and attempts < max_attempts:\n",
        "        # Guess a random number from the remaining possible guesses in the stack\n",
        "        guess = random.choice(stack)  # Randomly pick from the current stack (DFS-like)\n",
        "        attempts += 1\n",
        "\n",
        "        print(f\"AI's guess ({attempts}/{max_attempts}) is: {guess}\")\n",
        "        # Get feedback from the player\n",
        "        feedback = input(\"Enter 'h' if too high, 'l' if too low, or 'c' if correct: \").strip().lower()\n",
        "\n",
        "        if feedback == 'c':\n",
        "            # Player confirms the guess is correct\n",
        "            print(f\"I (AI) guessed the number in {attempts} attempts using randomized DFS-like approach!\")\n",
        "            return\n",
        "        elif feedback == 'h':\n",
        "            # If the guess is too high, remove all numbers greater than the current guess\n",
        "            stack = deque(num for num in stack if num < guess)\n",
        "        elif feedback == 'l':\n",
        "            # If the guess is too low, remove all numbers less than the current guess\n",
        "            stack = deque(num for num in stack if num > guess)\n",
        "        else:\n",
        "            print(\"Invalid input. Please enter 'h', 'l', or 'c'.\")\n",
        "\n",
        "    # Handle situation if the AI cannot guess within 10 attempts\n",
        "    print(f\"I (AI) couldn't guess the number within {max_attempts} attempts. Better luck next time!\")\n",
        "\n",
        "# Run the game\n",
        "ai_number_guessing_game_dfs_random()\n"
      ],
      "metadata": {
        "colab": {
          "base_uri": "https://localhost:8080/"
        },
        "id": "ZRcNmCDuNNVN",
        "outputId": "a30ef4e7-5382-4fea-fe1a-f49114e1902d"
      },
      "execution_count": 6,
      "outputs": [
        {
          "output_type": "stream",
          "name": "stdout",
          "text": [
            "Think of a number between 1 and 100, and I (the AI) will try to guess it using a randomized DFS-like approach.\n",
            "AI's guess (1/10) is: 5\n",
            "Enter 'h' if too high, 'l' if too low, or 'c' if correct: l\n",
            "AI's guess (2/10) is: 43\n",
            "Enter 'h' if too high, 'l' if too low, or 'c' if correct: h\n",
            "AI's guess (3/10) is: 23\n",
            "Enter 'h' if too high, 'l' if too low, or 'c' if correct: h\n",
            "AI's guess (4/10) is: 15\n",
            "Enter 'h' if too high, 'l' if too low, or 'c' if correct: h\n",
            "AI's guess (5/10) is: 8\n",
            "Enter 'h' if too high, 'l' if too low, or 'c' if correct: l\n",
            "AI's guess (6/10) is: 12\n",
            "Enter 'h' if too high, 'l' if too low, or 'c' if correct: h\n",
            "AI's guess (7/10) is: 11\n",
            "Enter 'h' if too high, 'l' if too low, or 'c' if correct: h\n",
            "AI's guess (8/10) is: 10\n",
            "Enter 'h' if too high, 'l' if too low, or 'c' if correct: c\n",
            "I (AI) guessed the number in 8 attempts using randomized DFS-like approach!\n"
          ]
        }
      ]
    },
    {
      "cell_type": "markdown",
      "source": [],
      "metadata": {
        "id": "LZeZ8IVZeOTu"
      }
    },
    {
      "cell_type": "markdown",
      "source": [],
      "metadata": {
        "id": "OLcYb23hlAwQ"
      }
    },
    {
      "cell_type": "markdown",
      "source": [],
      "metadata": {
        "id": "MeCSkYbveO7t"
      }
    },
    {
      "cell_type": "markdown",
      "source": [
        "Implemented the Number Guessing Game where the AI uses **Random walk Alogrithm(RWA)** to guess the number."
      ],
      "metadata": {
        "id": "C55UbM39YlNc"
      }
    },
    {
      "cell_type": "markdown",
      "source": [
        "\n",
        "A **random walk algorithm** refers to a computational process where a series of random steps are taken within a defined set of rules or space. In essence, it involves moving step-by-step in a random direction without following any specific strategy to achieve an outcome, leading to a path that \"wanders\" unpredictably.\n",
        "\n",
        "The term \"random walk\" is often used in mathematics, computer science, and physics, especially in contexts involving probability, statistical processes, or modeling.\n",
        "\n",
        "**Key Aspects of code**\n",
        "\n",
        "1. Input and Setup:\n",
        "\n",
        "The game prompts the user to think of a number between 1 and 100.\n",
        "\n",
        "It defines:\n",
        "\n",
        "min_value and max_value: The range of numbers the AI will guess from.\n",
        "\n",
        "attempts: A counter to track how many guesses the AI has made.\n",
        "max_attempts: A limit on the number of guesses (set to 10).\n",
        "\n",
        "possible_guesses: A set of all possible numbers between 1 and 100, which will be reduced as the game progresses based on the user's feedback.\n",
        "\n",
        "2. Random Guessing:\n",
        "\n",
        "In each iteration, the AI makes a random guess from the remaining valid numbers in possible_guesses.\n",
        "The random choice is implemented using random.choice(list(possible_guesses)), ensuring that the guess is unpredictable.\n",
        "\n",
        "3. User Feedback Handling:\n",
        "After each guess, the user provides feedback in the form of:\n",
        "'h' if the guess is too high.\n",
        "'l' if the guess is too low.\n",
        "'c' if the guess is correct.\n",
        "Based on the feedback:\n",
        "If the guess is too high ('h'), numbers greater than the current guess are removed from possible_guesses.\n",
        "If the guess is too low ('l'), numbers less than the current guess are removed.\n",
        "This reduces the search space, but in a random, unsystematic way (not optimal like binary search).\n",
        "\n",
        "4. Guessing Loop and Termination:\n",
        "The loop runs for a maximum of max_attempts (10 guesses).\n",
        "If the AI guesses correctly within 10 tries, it stops and displays the success message.\n",
        "If it doesn't guess the number after 10 attempts, the game ends with a failure message.\n",
        "\n",
        "5. Edge Cases:\n",
        "If there are no possible guesses left (which can happen if the user provides inconsistent feedback), the game resets possible_guesses to all values between 1 and 100.\n",
        "If the user inputs something invalid (anything other than 'h', 'l', or 'c'), the code prints an error message and asks for correct feedback again.\n",
        "\n",
        "6. Random Walk Nature:\n",
        "The algorithm randomly guesses numbers without systematically narrowing the range in the most efficient way. It makes use of feedback to update the list of possible guesses, but the next guess is still chosen randomly from the updated possibilities.\n",
        "\n",
        "REASON WHY I CHOOSE THIS:\n",
        "In the number-guessing game example, instead of systematically narrowing down the guesses, the AI picks a number randomly. It doesn’t use logic or memory to guide the guessing process—just feedback to randomly adjust future guesses.\n",
        "\n",
        "**It’s like wandering through a forest without a map or compass: you’re exploring, but you have no idea whether you’re getting closer to your destination**.\n",
        "\n",
        "\n",
        "\n",
        "\n"
      ],
      "metadata": {
        "id": "j7zF4uARks75"
      }
    },
    {
      "cell_type": "code",
      "source": [
        "import random\n",
        "\n",
        "def ai_number_guessing_game_random_walk():\n",
        "    print(\"Think of a number between 1 and 100, and I (the AI) will try to guess it using a random walk approach.\")\n",
        "\n",
        "    # Defining the initial range of possible numbers\n",
        "    min_value, max_value = 1, 100\n",
        "    # Track the number of attempts made by the AI\n",
        "    attempts = 0\n",
        "    # Defining the maximum number of attempts the AI can make\n",
        "    max_attempts = 10\n",
        "\n",
        "    # Creating a set of all possible guesses (1 to 100)\n",
        "    possible_guesses = set(range(min_value, max_value + 1))\n",
        "\n",
        "    # The AI will keep guessing until it either guesses correctly or reaches the max number of attempts\n",
        "    while attempts < max_attempts:\n",
        "        if not possible_guesses:\n",
        "            print(\"No valid guesses left. Resetting possible guesses.\")\n",
        "            possible_guesses = set(range(min_value, max_value + 1))\n",
        "    # Choose a random guess from the set of possible guesses\n",
        "        guess = random.choice(list(possible_guesses))\n",
        "        attempts += 1   #incrementing\n",
        "\n",
        "    # Show the AI's current guess to the player\n",
        "        print(f\"AI's guess ({attempts}/{max_attempts}) is: {guess}\")\n",
        "        feedback = input(\"Enter 'h' if too high, 'l' if too low, or 'c' if correct: \").strip().lower()\n",
        "\n",
        "        if feedback == 'c':\n",
        "            print(f\"I (AI) guessed the number in {attempts} attempts!\")\n",
        "            return\n",
        "        elif feedback == 'h':\n",
        "            # Remove all guesses greater than the current guess\n",
        "            possible_guesses = {g for g in possible_guesses if g < guess}\n",
        "        elif feedback == 'l':\n",
        "            # Remove all guesses less than the current guess\n",
        "            possible_guesses = {g for g in possible_guesses if g > guess}\n",
        "        else:\n",
        "            print(\"Invalid input. Please enter 'h', 'l', or 'c'.\")\n",
        "\n",
        "    print(f\"I (AI) couldn't guess the number within {max_attempts} attempts. Better luck next time!\")\n",
        "\n",
        "# Run the game\n",
        "ai_number_guessing_game_random_walk() #calling function\n"
      ],
      "metadata": {
        "colab": {
          "base_uri": "https://localhost:8080/"
        },
        "id": "o5EyudRXZH1W",
        "outputId": "80fa1126-59a2-4d75-8bc9-84738d145755"
      },
      "execution_count": 11,
      "outputs": [
        {
          "output_type": "stream",
          "name": "stdout",
          "text": [
            "Think of a number between 1 and 100, and I (the AI) will try to guess it using a random walk approach.\n",
            "AI's guess (1/10) is: 25\n",
            "Enter 'h' if too high, 'l' if too low, or 'c' if correct: l\n",
            "AI's guess (2/10) is: 77\n",
            "Enter 'h' if too high, 'l' if too low, or 'c' if correct: h\n",
            "AI's guess (3/10) is: 75\n",
            "Enter 'h' if too high, 'l' if too low, or 'c' if correct: h\n",
            "AI's guess (4/10) is: 53\n",
            "Enter 'h' if too high, 'l' if too low, or 'c' if correct: l\n",
            "AI's guess (5/10) is: 60\n",
            "Enter 'h' if too high, 'l' if too low, or 'c' if correct: c\n",
            "I (AI) guessed the number in 5 attempts!\n"
          ]
        }
      ]
    }
  ],
  "metadata": {
    "colab": {
      "provenance": [],
      "authorship_tag": "ABX9TyNNI/KWPChRDZaQ/jAacS7u",
      "include_colab_link": true
    },
    "kernelspec": {
      "display_name": "Python 3",
      "name": "python3"
    },
    "language_info": {
      "name": "python"
    }
  },
  "nbformat": 4,
  "nbformat_minor": 0
}