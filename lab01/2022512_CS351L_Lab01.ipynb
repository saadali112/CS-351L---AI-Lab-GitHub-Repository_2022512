{
  "cells": [
    {
      "cell_type": "markdown",
      "source": [
        "1. Implemented the Number Guessing Game where the AI uses **Breadth-First Search (BFS)** to guess the number.\n"
      ],
      "metadata": {
        "id": "tRNAHMeGV_J8"
      }
    },
    {
      "cell_type": "code",
      "source": [
        "import random\n",
        "from collections import deque\n",
        "\n",
        "def ai_number_guessing_game_bfs_random_limited():\n",
        "    # player to think of a number\n",
        "    print(\"Think of a number between 1 and 100, and I (the AI) will try to guess it using a randomized BFS approach.\")\n",
        "\n",
        "    # Initialize the range\n",
        "    low = 1\n",
        "    high = 100\n",
        "    # Defining the maximum number of attempts the AI can make\n",
        "    max_attempts = 10\n",
        "    attempts = 0\n",
        "\n",
        "\n",
        "    # Initializing the queue with all possible guesses\n",
        "    queue = deque(range(low, high + 1))\n",
        "\n",
        "    # Perform randomized BFS to guess the number\n",
        "    while queue and attempts < max_attempts:\n",
        "        # Guess a random number from the remaining possible guesses in the queue\n",
        "        guess = random.choice(queue)\n",
        "        attempts += 1\n",
        "\n",
        "        print(f\"AI's guess ({attempts}/{max_attempts}) is: {guess}\")\n",
        "        # Get feedback from the player\n",
        "        feedback = input(\"Enter 'h' if too high, 'l' if too low, or 'c' if correct: \").strip().lower()\n",
        "\n",
        "        if feedback == 'c':\n",
        "            # Player confirms the guess is correct\n",
        "            print(f\"I (AI) guessed the number in {attempts} attempts using randomized BFS!\")\n",
        "            return\n",
        "        elif feedback == 'h':\n",
        "            # If the guess is to high, remove all numbers greater than the current guess\n",
        "            queue = deque(num for num in queue if num < guess)\n",
        "        elif feedback == 'l':\n",
        "            # If the guess is to low, remove all numbers less than the current guess\n",
        "            queue = deque(num for num in queue if num > guess)\n",
        "        else:\n",
        "            print(\"Invalid input. Please enter 'h', 'l', or 'c'.\")\n",
        "\n",
        "    # Handle situation if the AI cannot guess within 10 attempts\n",
        "    print(f\"I (AI) couldn't guess the number within {max_attempts} attempts. Better luck next time!\")\n",
        "\n",
        "# Run the game\n",
        "ai_number_guessing_game_bfs_random_limited() #calling the function\n"
      ],
      "metadata": {
        "colab": {
          "base_uri": "https://localhost:8080/"
        },
        "id": "JsfiLY1FJ1H1",
        "outputId": "12514742-0bb6-40e3-bd64-0e5e4aad3f60"
      },
      "execution_count": null,
      "outputs": [
        {
          "output_type": "stream",
          "name": "stdout",
          "text": [
            "Think of a number between 1 and 100, and I (the AI) will try to guess it using a randomized BFS approach.\n",
            "AI's guess (1/10) is: 57\n",
            "Enter 'h' if too high, 'l' if too low, or 'c' if correct: h\n",
            "AI's guess (2/10) is: 21\n",
            "Enter 'h' if too high, 'l' if too low, or 'c' if correct: l\n",
            "AI's guess (3/10) is: 22\n",
            "Enter 'h' if too high, 'l' if too low, or 'c' if correct: l\n",
            "AI's guess (4/10) is: 49\n",
            "Enter 'h' if too high, 'l' if too low, or 'c' if correct: h\n",
            "AI's guess (5/10) is: 40\n",
            "Enter 'h' if too high, 'l' if too low, or 'c' if correct: h\n",
            "AI's guess (6/10) is: 36\n",
            "Enter 'h' if too high, 'l' if too low, or 'c' if correct: h\n",
            "AI's guess (7/10) is: 33\n",
            "Enter 'h' if too high, 'l' if too low, or 'c' if correct: h\n",
            "AI's guess (8/10) is: 25\n",
            "Enter 'h' if too high, 'l' if too low, or 'c' if correct: l\n",
            "AI's guess (9/10) is: 29\n",
            "Enter 'h' if too high, 'l' if too low, or 'c' if correct: l\n",
            "AI's guess (10/10) is: 30\n",
            "Enter 'h' if too high, 'l' if too low, or 'c' if correct: c\n",
            "I (AI) guessed the number in 10 attempts using randomized BFS!\n"
          ]
        }
      ]
    },
    {
      "cell_type": "markdown",
      "source": [],
      "metadata": {
        "id": "kKSJqee8eNHh"
      }
    },
    {
      "cell_type": "markdown",
      "source": [],
      "metadata": {
        "id": "2ZZ-5nBYeMct"
      }
    },
    {
      "cell_type": "markdown",
      "source": [
        "2. Implemented the Number Guessing Game where the AI uses **Depth-First Search (BFS)** to guess the number."
      ],
      "metadata": {
        "id": "wm_DeN2xXhpu"
      }
    },
    {
      "cell_type": "code",
      "source": [
        "import random\n",
        "from collections import deque\n",
        "\n",
        "def ai_number_guessing_game_dfs_random():\n",
        "    # Prompt the player to think of a number\n",
        "    print(\"Think of a number between 1 and 100, and I (the AI) will try to guess it using a randomized DFS-like approach.\")\n",
        "\n",
        "    # Initialize the search range\n",
        "    low = 1\n",
        "    high = 100\n",
        "    attempts = 0\n",
        "    max_attempts = 10\n",
        "\n",
        "    # Initialize the stack with all possible guesses\n",
        "    stack = deque(range(low, high + 1))\n",
        "\n",
        "    # Perform DFS to guess the number\n",
        "    while stack and attempts < max_attempts:\n",
        "        # Guess a random number from the remaining possible guesses in the stack\n",
        "        guess = random.choice(stack)  # Randomly pick from the current stack (DFS-like)\n",
        "        attempts += 1\n",
        "\n",
        "        print(f\"AI's guess ({attempts}/{max_attempts}) is: {guess}\")\n",
        "        # Get feedback from the player\n",
        "        feedback = input(\"Enter 'h' if too high, 'l' if too low, or 'c' if correct: \").strip().lower()\n",
        "\n",
        "        if feedback == 'c':\n",
        "            # Player confirms the guess is correct\n",
        "            print(f\"I (AI) guessed the number in {attempts} attempts using randomized DFS-like approach!\")\n",
        "            return\n",
        "        elif feedback == 'h':\n",
        "            # If the guess is too high, remove all numbers greater than the current guess\n",
        "            stack = deque(num for num in stack if num < guess)\n",
        "        elif feedback == 'l':\n",
        "            # If the guess is too low, remove all numbers less than the current guess\n",
        "            stack = deque(num for num in stack if num > guess)\n",
        "        else:\n",
        "            print(\"Invalid input. Please enter 'h', 'l', or 'c'.\")\n",
        "\n",
        "    # Handle situation if the AI cannot guess within 10 attempts\n",
        "    print(f\"I (AI) couldn't guess the number within {max_attempts} attempts. Better luck next time!\")\n",
        "\n",
        "# Run the game\n",
        "ai_number_guessing_game_dfs_random()\n"
      ],
      "metadata": {
        "colab": {
          "base_uri": "https://localhost:8080/"
        },
        "id": "ZRcNmCDuNNVN",
        "outputId": "a30ef4e7-5382-4fea-fe1a-f49114e1902d"
      },
      "execution_count": null,
      "outputs": [
        {
          "output_type": "stream",
          "name": "stdout",
          "text": [
            "Think of a number between 1 and 100, and I (the AI) will try to guess it using a randomized DFS-like approach.\n",
            "AI's guess (1/10) is: 5\n",
            "Enter 'h' if too high, 'l' if too low, or 'c' if correct: l\n",
            "AI's guess (2/10) is: 43\n",
            "Enter 'h' if too high, 'l' if too low, or 'c' if correct: h\n",
            "AI's guess (3/10) is: 23\n",
            "Enter 'h' if too high, 'l' if too low, or 'c' if correct: h\n",
            "AI's guess (4/10) is: 15\n",
            "Enter 'h' if too high, 'l' if too low, or 'c' if correct: h\n",
            "AI's guess (5/10) is: 8\n",
            "Enter 'h' if too high, 'l' if too low, or 'c' if correct: l\n",
            "AI's guess (6/10) is: 12\n",
            "Enter 'h' if too high, 'l' if too low, or 'c' if correct: h\n",
            "AI's guess (7/10) is: 11\n",
            "Enter 'h' if too high, 'l' if too low, or 'c' if correct: h\n",
            "AI's guess (8/10) is: 10\n",
            "Enter 'h' if too high, 'l' if too low, or 'c' if correct: c\n",
            "I (AI) guessed the number in 8 attempts using randomized DFS-like approach!\n"
          ]
        }
      ]
    },
    {
      "cell_type": "markdown",
      "source": [],
      "metadata": {
        "id": "LZeZ8IVZeOTu"
      }
    },
    {
      "cell_type": "markdown",
      "source": [],
      "metadata": {
        "id": "OLcYb23hlAwQ"
      }
    },
    {
      "cell_type": "markdown",
      "source": [],
      "metadata": {
        "id": "MeCSkYbveO7t"
      }
    },
    {
      "cell_type": "markdown",
      "source": [
        "3. Implemented the Number Guessing Game where the AI uses **Random walk Alogrithm(RWA)** to guess the number."
      ],
      "metadata": {
        "id": "C55UbM39YlNc"
      }
    },
    {
      "cell_type": "code",
      "source": [
        "import random\n",
        "\n",
        "def ai_number_guessing_game_random_walk():\n",
        "    print(\"Think of a number between 1 and 100, and I (the AI) will try to guess it using a random walk approach.\")\n",
        "\n",
        "    # Defining the initial range of possible numbers\n",
        "    min_value, max_value = 1, 100\n",
        "    # Track the number of attempts made by the AI\n",
        "    attempts = 0\n",
        "    # Defining the maximum number of attempts the AI can make\n",
        "    max_attempts = 10\n",
        "\n",
        "    # Creating a set of all possible guesses (1 to 100)\n",
        "    possible_guesses = set(range(min_value, max_value + 1))\n",
        "\n",
        "    # The AI will keep guessing until it either guesses correctly or reaches the max number of attempts\n",
        "    while attempts < max_attempts:\n",
        "        if not possible_guesses:\n",
        "            print(\"No valid guesses left. Resetting possible guesses.\")\n",
        "            possible_guesses = set(range(min_value, max_value + 1))\n",
        "    # Choose a random guess from the set of possible guesses\n",
        "        guess = random.choice(list(possible_guesses))\n",
        "        attempts += 1   #incrementing\n",
        "\n",
        "    # Show the AI's current guess to the player\n",
        "        print(f\"AI's guess ({attempts}/{max_attempts}) is: {guess}\")\n",
        "        feedback = input(\"Enter 'h' if too high, 'l' if too low, or 'c' if correct: \").strip().lower()\n",
        "\n",
        "        if feedback == 'c':\n",
        "            print(f\"I (AI) guessed the number in {attempts} attempts!\")\n",
        "            return\n",
        "        elif feedback == 'h':\n",
        "            # Remove all guesses greater than the current guess\n",
        "            possible_guesses = {g for g in possible_guesses if g < guess}\n",
        "        elif feedback == 'l':\n",
        "            # Remove all guesses less than the current guess\n",
        "            possible_guesses = {g for g in possible_guesses if g > guess}\n",
        "        else:\n",
        "            print(\"Invalid input. Please enter 'h', 'l', or 'c'.\")\n",
        "\n",
        "    print(f\"I (AI) couldn't guess the number within {max_attempts} attempts. Better luck next time!\")\n",
        "\n",
        "# Run the game\n",
        "ai_number_guessing_game_random_walk() #calling function\n"
      ],
      "metadata": {
        "colab": {
          "base_uri": "https://localhost:8080/"
        },
        "id": "o5EyudRXZH1W",
        "outputId": "80fa1126-59a2-4d75-8bc9-84738d145755"
      },
      "execution_count": null,
      "outputs": [
        {
          "output_type": "stream",
          "name": "stdout",
          "text": [
            "Think of a number between 1 and 100, and I (the AI) will try to guess it using a random walk approach.\n",
            "AI's guess (1/10) is: 25\n",
            "Enter 'h' if too high, 'l' if too low, or 'c' if correct: l\n",
            "AI's guess (2/10) is: 77\n",
            "Enter 'h' if too high, 'l' if too low, or 'c' if correct: h\n",
            "AI's guess (3/10) is: 75\n",
            "Enter 'h' if too high, 'l' if too low, or 'c' if correct: h\n",
            "AI's guess (4/10) is: 53\n",
            "Enter 'h' if too high, 'l' if too low, or 'c' if correct: l\n",
            "AI's guess (5/10) is: 60\n",
            "Enter 'h' if too high, 'l' if too low, or 'c' if correct: c\n",
            "I (AI) guessed the number in 5 attempts!\n"
          ]
        }
      ]
    },
    {
      "cell_type": "code",
      "source": [],
      "metadata": {
        "id": "rCxJLR_IQRM6"
      },
      "execution_count": null,
      "outputs": []
    }
  ],
  "metadata": {
    "colab": {
      "provenance": []
    },
    "kernelspec": {
      "display_name": "Python 3",
      "name": "python3"
    },
    "language_info": {
      "name": "python"
    }
  },
  "nbformat": 4,
  "nbformat_minor": 0
}